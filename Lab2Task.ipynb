{
  "nbformat": 4,
  "nbformat_minor": 0,
  "metadata": {
    "colab": {
      "provenance": [],
      "toc_visible": true
    },
    "kernelspec": {
      "name": "python3",
      "display_name": "Python 3"
    },
    "language_info": {
      "name": "python"
    }
  },
  "cells": [
    {
      "cell_type": "markdown",
      "source": [
        "# Matplotlib"
      ],
      "metadata": {
        "id": "-fIIrXhoEDAh"
      }
    },
    {
      "cell_type": "markdown",
      "source": [
        "# Numpy"
      ],
      "metadata": {
        "id": "LcsIQJo6EM7h"
      }
    },
    {
      "cell_type": "markdown",
      "source": [
        "# List"
      ],
      "metadata": {
        "id": "OL8pbFh-EQv4"
      }
    },
    {
      "cell_type": "code",
      "source": [
        "my_list = [1, 2, 3, 4, 5, 6, 7, 8, 9, 10]\n",
        "print(my_list)\n",
        "list_sum = sum(my_list)\n",
        "list_max = max(my_list)\n",
        "list_min = min(my_list)\n",
        "\n",
        "print(f\"Sum of the list: {list_sum}\")\n",
        "print(f\"Maximum element in the list: {list_max}\")\n",
        "print(f\"Minimum element in the list: {list_min}\")\n",
        "my_list.append(11)\n",
        "print(my_list)\n",
        "my_list.pop()\n",
        "print(my_list)\n",
        "\n",
        "my_list.sort()\n",
        "print(my_list)\n",
        "\n",
        "my_list.reverse()\n",
        "print(my_list)"
      ],
      "metadata": {
        "colab": {
          "base_uri": "https://localhost:8080/"
        },
        "id": "sYL-gxBTLgX4",
        "outputId": "8011c9f8-8bc9-4954-b365-8c288faedabf"
      },
      "execution_count": 12,
      "outputs": [
        {
          "output_type": "stream",
          "name": "stdout",
          "text": [
            "[1, 2, 3, 4, 5, 6, 7, 8, 9, 10]\n",
            "Sum of the list: 55\n",
            "Maximum element in the list: 10\n",
            "Minimum element in the list: 1\n",
            "[1, 2, 3, 4, 5, 6, 7, 8, 9, 10, 11]\n",
            "[1, 2, 3, 4, 5, 6, 7, 8, 9, 10]\n",
            "[1, 2, 3, 4, 5, 6, 7, 8, 9, 10]\n",
            "[10, 9, 8, 7, 6, 5, 4, 3, 2, 1]\n"
          ]
        }
      ]
    },
    {
      "cell_type": "markdown",
      "source": [
        "# Tuple"
      ],
      "metadata": {
        "id": "0Lp_H_5hEW-A"
      }
    },
    {
      "cell_type": "code",
      "source": [
        "fruits_tuple = (\"apple\", \"banana\", \"strawberry\", \"date\", \"milk\")\n",
        "print(fruits_tuple)\n",
        "\n",
        "print(fruits_tuple[1])\n",
        "print(fruits_tuple[-1])\n",
        "\n",
        "my_list = list(fruits_tuple)\n",
        "my_list[1] = \"orange\"\n",
        "fruits_tuple = tuple(my_list)\n",
        "print(f\"Modified tuple: {fruits_tuple}\")"
      ],
      "metadata": {
        "colab": {
          "base_uri": "https://localhost:8080/"
        },
        "id": "-ib0_NJlNSfv",
        "outputId": "8eb0f81d-18f0-44c5-ab05-8ca2c15a09b8"
      },
      "execution_count": 28,
      "outputs": [
        {
          "output_type": "stream",
          "name": "stdout",
          "text": [
            "('apple', 'banana', 'strawberry', 'date', 'milk')\n",
            "banana\n",
            "milk\n",
            "Modified tuple: ('apple', 'orange', 'strawberry', 'date', 'milk')\n"
          ]
        }
      ]
    },
    {
      "cell_type": "markdown",
      "source": [
        "# Set"
      ],
      "metadata": {
        "id": "SNh3BJ68Ed8w"
      }
    },
    {
      "cell_type": "code",
      "source": [
        "set1 = {1, 2, 3, 4, 5, 6}\n",
        "set2 = {4, 5, 6, 7, 8, 9}\n",
        "\n",
        "print(\"Set 1:\", set1)\n",
        "print(\"Set 2:\", set2)\n",
        "\n",
        "union_set = set1.union(set2)\n",
        "print(\"Union Set:\", union_set)\n",
        "\n",
        "intersection_set = set1.intersection(set2)\n",
        "print(\"Intersection Set:\", intersection_set)\n",
        "\n",
        "difference_set = set1.difference(set2)\n",
        "print(\"Difference Set:\", difference_set)\n",
        "\n",
        "set1.add(7)\n",
        "print(\"Add Set:\", set1)\n",
        "\n",
        "set1.remove(3)\n",
        "print(\"Remove Set:\", set1)\n"
      ],
      "metadata": {
        "colab": {
          "base_uri": "https://localhost:8080/"
        },
        "id": "ZRSXYm58Um_n",
        "outputId": "51a55f66-43b2-4244-933c-43d2f245f641"
      },
      "execution_count": 35,
      "outputs": [
        {
          "output_type": "stream",
          "name": "stdout",
          "text": [
            "Set 1: {1, 2, 3, 4, 5, 6}\n",
            "Set 2: {4, 5, 6, 7, 8, 9}\n",
            "Union Set: {1, 2, 3, 4, 5, 6, 7, 8, 9}\n",
            "Intersection Set: {4, 5, 6}\n",
            "Difference Set: {1, 2, 3}\n",
            "Add Set: {1, 2, 3, 4, 5, 6, 7}\n",
            "Remove Set: {1, 2, 4, 5, 6, 7}\n"
          ]
        }
      ]
    },
    {
      "cell_type": "markdown",
      "source": [
        "# Dictionary"
      ],
      "metadata": {
        "id": "VHjawd8mE8U1"
      }
    },
    {
      "cell_type": "code",
      "source": [
        "student_marks = {\n",
        "    \"Alice\": 85,\n",
        "    \"Bob\": 92,\n",
        "    \"Charlie\": 78,\n",
        "    \"David\": 95,\n",
        "    \"Eve\": 88,\n",
        "     \"Eve\": 82\n",
        "\n",
        "}\n",
        "\n",
        "print(student_marks)\n",
        "\n",
        "student_marks[\"Bob\"] = 90\n",
        "print(student_marks)\n",
        "\n",
        "del student_marks[\"Charlie\"]\n",
        "print(student_marks)\n",
        "\n"
      ],
      "metadata": {
        "colab": {
          "base_uri": "https://localhost:8080/"
        },
        "id": "hdOicSXcMEBf",
        "outputId": "edb5ebed-c875-41e4-a463-34ceab29479a"
      },
      "execution_count": 40,
      "outputs": [
        {
          "output_type": "stream",
          "name": "stdout",
          "text": [
            "{'Alice': 85, 'Bob': 92, 'Charlie': 78, 'David': 95, 'Eve': 82}\n",
            "{'Alice': 85, 'Bob': 90, 'Charlie': 78, 'David': 95, 'Eve': 82}\n",
            "{'Alice': 85, 'Bob': 90, 'David': 95, 'Eve': 82}\n"
          ]
        }
      ]
    }
  ]
}