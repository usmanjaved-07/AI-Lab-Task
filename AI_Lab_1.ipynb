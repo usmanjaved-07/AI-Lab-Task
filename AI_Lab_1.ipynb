{
  "nbformat": 4,
  "nbformat_minor": 0,
  "metadata": {
    "colab": {
      "provenance": [],
      "toc_visible": true,
      "gpuType": "T4"
    },
    "kernelspec": {
      "name": "python3",
      "display_name": "Python 3"
    },
    "language_info": {
      "name": "python"
    },
    "accelerator": "GPU"
  },
  "cells": [
    {
      "cell_type": "markdown",
      "source": [
        "# My Name:"
      ],
      "metadata": {
        "id": "cAUgRyVVEcko"
      }
    },
    {
      "cell_type": "code",
      "source": [
        "print(\"Usman Javed\");"
      ],
      "metadata": {
        "id": "Ynb_Bd5VGddp"
      },
      "execution_count": null,
      "outputs": []
    },
    {
      "cell_type": "markdown",
      "source": [
        "# Addition"
      ],
      "metadata": {
        "id": "xk1_LYoSEgnf"
      }
    },
    {
      "cell_type": "code",
      "source": [
        "a=1;\n",
        "b=5;\n",
        "print(a+b);"
      ],
      "metadata": {
        "colab": {
          "base_uri": "https://localhost:8080/"
        },
        "id": "Wm44rKVzFl-R",
        "outputId": "683f7fbe-325d-457d-933c-e598335dbaf8"
      },
      "execution_count": 6,
      "outputs": [
        {
          "output_type": "stream",
          "name": "stdout",
          "text": [
            "6\n"
          ]
        }
      ]
    },
    {
      "cell_type": "markdown",
      "source": [
        "# Subtraction:"
      ],
      "metadata": {
        "id": "eKAUI8PXElww"
      }
    },
    {
      "cell_type": "code",
      "source": [
        "a=1;\n",
        "b=5;\n",
        "print(a-b);"
      ],
      "metadata": {
        "colab": {
          "base_uri": "https://localhost:8080/"
        },
        "id": "AVjTvw_6GHZA",
        "outputId": "8799d151-6b2e-494c-cc29-c2460d7284dc"
      },
      "execution_count": 11,
      "outputs": [
        {
          "output_type": "stream",
          "name": "stdout",
          "text": [
            "-4\n"
          ]
        }
      ]
    },
    {
      "cell_type": "markdown",
      "source": [
        "# Multiplication:"
      ],
      "metadata": {
        "id": "aBJNdT2-EqZ_"
      }
    },
    {
      "cell_type": "code",
      "source": [
        "a=2;\n",
        "b=5;\n",
        "print(a*b);"
      ],
      "metadata": {
        "colab": {
          "base_uri": "https://localhost:8080/"
        },
        "id": "J6z1D-kaGJkg",
        "outputId": "e734e2e5-e1cb-4b49-ff5a-84450e40ed50"
      },
      "execution_count": 10,
      "outputs": [
        {
          "output_type": "stream",
          "name": "stdout",
          "text": [
            "10\n"
          ]
        }
      ]
    },
    {
      "cell_type": "markdown",
      "source": [
        "# Division:"
      ],
      "metadata": {
        "id": "PuSrtv5BEtv4"
      }
    },
    {
      "cell_type": "code",
      "source": [
        "a=10;\n",
        "b=5;\n",
        "print(a/b);"
      ],
      "metadata": {
        "colab": {
          "base_uri": "https://localhost:8080/"
        },
        "id": "R9mroK0wGL_Y",
        "outputId": "c30464a9-590a-488d-cf41-1d576e931e32"
      },
      "execution_count": 8,
      "outputs": [
        {
          "output_type": "stream",
          "name": "stdout",
          "text": [
            "2.0\n"
          ]
        }
      ]
    }
  ]
}